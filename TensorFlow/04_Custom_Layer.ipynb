{
  "nbformat": 4,
  "nbformat_minor": 0,
  "metadata": {
    "colab": {
      "provenance": []
    },
    "kernelspec": {
      "name": "python3",
      "display_name": "Python 3"
    },
    "language_info": {
      "name": "python"
    }
  },
  "cells": [
    {
      "cell_type": "code",
      "execution_count": 1,
      "metadata": {
        "id": "ZM0iLP8TlWtI"
      },
      "outputs": [],
      "source": [
        "import tensorflow as tf\n",
        "from tensorflow.keras import backend as K"
      ]
    },
    {
      "cell_type": "markdown",
      "source": [
        "## Lambda Layer"
      ],
      "metadata": {
        "id": "Xu5Gov2XUd_j"
      }
    },
    {
      "cell_type": "markdown",
      "source": [
        "In TensorFlow, a Lambda layer is a flexible and convenient way to create custom layers within a neural network model. It allows you to execute arbitrary TensorFlow operations on the input data, providing flexibility in defining custom computations without the need to create a separate custom layer class."
      ],
      "metadata": {
        "id": "ucetSRUpVARB"
      }
    },
    {
      "cell_type": "code",
      "source": [
        "def my_relu(x):\n",
        "    return K.maximum(0.5, x)\n",
        "\n",
        "# Example usage within a Sequential model\n",
        "model = tf.keras.models.Sequential([\n",
        "    tf.keras.layers.Dense(64, activation='relu'),\n",
        "\n",
        "    # Define a custom layer using a Lambda layer\n",
        "    tf.keras.layers.Lambda(lambda x: tf.abs(x)),\n",
        "\n",
        "    tf.keras.layers.Dense(32),\n",
        "\n",
        "    # Define a custom layer using a Lambda layer with custom ReLU function\n",
        "    tf.keras.layers.Lambda(my_relu),\n",
        "\n",
        "    tf.keras.layers.Dense(10, activation='softmax')\n",
        "])"
      ],
      "metadata": {
        "id": "fo6uGYoFVNpW"
      },
      "execution_count": 2,
      "outputs": []
    },
    {
      "cell_type": "markdown",
      "source": [
        "## Custom Layer"
      ],
      "metadata": {
        "id": "QVftmVFMUeCv"
      }
    },
    {
      "cell_type": "markdown",
      "source": [
        "Typically, a layer is a class that collects parameters, encapsulates state, and performs computations to achieve the layer's purpose within a neural network.\n",
        "\n",
        "State refers to variables associated with a layer that make each instance of the layer unique. These variables can hold parameters such as weights and biases, which are adjusted during training to optimize model performance.\n",
        "\n",
        "*Trainable vs. Non-trainable:* State variables can be trainable or non-trainable. Trainable variables are optimized during the training process using techniques like gradient descent to improve model performance. Non-trainable variables, on the other hand, may be used for various purposes such as regularization or as fixed parameters.\n",
        "\n",
        "Computation refers to the process of transforming a batch of input data into a batch of output data. It involves applying mathematical operations to the input data using the layer's parameters (state) to produce the desired output.\n"
      ],
      "metadata": {
        "id": "5fIAIPz5bf7c"
      }
    },
    {
      "cell_type": "code",
      "source": [
        "class MyDense(tf.keras.layers.Layer):\n",
        "    def __init__(self, units=32, activation=None):\n",
        "        '''Initializes the instance attributes'''\n",
        "        super().__init__()\n",
        "        self.units = units\n",
        "        self.activation = tf.keras.activations.get(activation)\n",
        "\n",
        "    def build(self, input_shape):\n",
        "        '''Create the state of the layer'''\n",
        "        w_init = tf.random_normal_initializer()\n",
        "        self.w = tf.Variable(\n",
        "            name=\"kernel\",\n",
        "            initial_value=w_init(shape=(input_shape[-1], self.units), dtype=\"float32\"),\n",
        "            trainable=True\n",
        "        )\n",
        "\n",
        "        b_init = tf.zeros_initializer()\n",
        "        self.b = tf.Variable(\n",
        "            name=\"bias\",\n",
        "            initial_value=b_init(shape=(self.units, ), dtype=\"float32\"),\n",
        "            trainable=True\n",
        "        )\n",
        "\n",
        "    def call(self, inputs):\n",
        "        '''Defines the computation from inputs to outputs'''\n",
        "        return self.activation(tf.matmul(inputs, self.w) + self.b)"
      ],
      "metadata": {
        "id": "HSZUEFcrbfXc"
      },
      "execution_count": 4,
      "outputs": []
    },
    {
      "cell_type": "code",
      "source": [
        "# Example usage within a Sequential model\n",
        "model = tf.keras.models.Sequential([\n",
        "    MyDense(64, activation='relu'),\n",
        "    MyDense(1)\n",
        "])"
      ],
      "metadata": {
        "id": "W2C78lHViP7V"
      },
      "execution_count": 5,
      "outputs": []
    }
  ]
}