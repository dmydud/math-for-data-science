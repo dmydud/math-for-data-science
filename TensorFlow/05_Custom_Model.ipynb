{
  "nbformat": 4,
  "nbformat_minor": 0,
  "metadata": {
    "colab": {
      "provenance": []
    },
    "kernelspec": {
      "name": "python3",
      "display_name": "Python 3"
    },
    "language_info": {
      "name": "python"
    },
    "widgets": {
      "application/vnd.jupyter.widget-state+json": {
        "da09dda4a80740f3bf073bfd27dc82e8": {
          "model_module": "@jupyter-widgets/controls",
          "model_name": "HBoxModel",
          "model_module_version": "1.5.0",
          "state": {
            "_dom_classes": [],
            "_model_module": "@jupyter-widgets/controls",
            "_model_module_version": "1.5.0",
            "_model_name": "HBoxModel",
            "_view_count": null,
            "_view_module": "@jupyter-widgets/controls",
            "_view_module_version": "1.5.0",
            "_view_name": "HBoxView",
            "box_style": "",
            "children": [
              "IPY_MODEL_354d625fb2f2443e9001421716e86f56",
              "IPY_MODEL_f598ea3c861e4fcf81acd2561c0ca8b7",
              "IPY_MODEL_95cf5205f9ff4af3a5c8afc6369843ad"
            ],
            "layout": "IPY_MODEL_b253529c2a234b7bba2a259dd151c4d5"
          }
        },
        "354d625fb2f2443e9001421716e86f56": {
          "model_module": "@jupyter-widgets/controls",
          "model_name": "HTMLModel",
          "model_module_version": "1.5.0",
          "state": {
            "_dom_classes": [],
            "_model_module": "@jupyter-widgets/controls",
            "_model_module_version": "1.5.0",
            "_model_name": "HTMLModel",
            "_view_count": null,
            "_view_module": "@jupyter-widgets/controls",
            "_view_module_version": "1.5.0",
            "_view_name": "HTMLView",
            "description": "",
            "description_tooltip": null,
            "layout": "IPY_MODEL_af923b4b394a4a17bd54f0e20d206474",
            "placeholder": "​",
            "style": "IPY_MODEL_48dc9607bf68426ebb20f0feaeb42f81",
            "value": "Dl Completed...: 100%"
          }
        },
        "f598ea3c861e4fcf81acd2561c0ca8b7": {
          "model_module": "@jupyter-widgets/controls",
          "model_name": "FloatProgressModel",
          "model_module_version": "1.5.0",
          "state": {
            "_dom_classes": [],
            "_model_module": "@jupyter-widgets/controls",
            "_model_module_version": "1.5.0",
            "_model_name": "FloatProgressModel",
            "_view_count": null,
            "_view_module": "@jupyter-widgets/controls",
            "_view_module_version": "1.5.0",
            "_view_name": "ProgressView",
            "bar_style": "success",
            "description": "",
            "description_tooltip": null,
            "layout": "IPY_MODEL_922d22b29a0f4344b64f1a67449b6208",
            "max": 5,
            "min": 0,
            "orientation": "horizontal",
            "style": "IPY_MODEL_8e33040ecdaa4c6289ce5bc2a7aa787e",
            "value": 5
          }
        },
        "95cf5205f9ff4af3a5c8afc6369843ad": {
          "model_module": "@jupyter-widgets/controls",
          "model_name": "HTMLModel",
          "model_module_version": "1.5.0",
          "state": {
            "_dom_classes": [],
            "_model_module": "@jupyter-widgets/controls",
            "_model_module_version": "1.5.0",
            "_model_name": "HTMLModel",
            "_view_count": null,
            "_view_module": "@jupyter-widgets/controls",
            "_view_module_version": "1.5.0",
            "_view_name": "HTMLView",
            "description": "",
            "description_tooltip": null,
            "layout": "IPY_MODEL_b7a10dd46cee43aca133ee3d5961613e",
            "placeholder": "​",
            "style": "IPY_MODEL_5fec77ea16754061b6475012fb2bee3b",
            "value": " 5/5 [00:03&lt;00:00,  1.06 file/s]"
          }
        },
        "b253529c2a234b7bba2a259dd151c4d5": {
          "model_module": "@jupyter-widgets/base",
          "model_name": "LayoutModel",
          "model_module_version": "1.2.0",
          "state": {
            "_model_module": "@jupyter-widgets/base",
            "_model_module_version": "1.2.0",
            "_model_name": "LayoutModel",
            "_view_count": null,
            "_view_module": "@jupyter-widgets/base",
            "_view_module_version": "1.2.0",
            "_view_name": "LayoutView",
            "align_content": null,
            "align_items": null,
            "align_self": null,
            "border": null,
            "bottom": null,
            "display": null,
            "flex": null,
            "flex_flow": null,
            "grid_area": null,
            "grid_auto_columns": null,
            "grid_auto_flow": null,
            "grid_auto_rows": null,
            "grid_column": null,
            "grid_gap": null,
            "grid_row": null,
            "grid_template_areas": null,
            "grid_template_columns": null,
            "grid_template_rows": null,
            "height": null,
            "justify_content": null,
            "justify_items": null,
            "left": null,
            "margin": null,
            "max_height": null,
            "max_width": null,
            "min_height": null,
            "min_width": null,
            "object_fit": null,
            "object_position": null,
            "order": null,
            "overflow": null,
            "overflow_x": null,
            "overflow_y": null,
            "padding": null,
            "right": null,
            "top": null,
            "visibility": null,
            "width": null
          }
        },
        "af923b4b394a4a17bd54f0e20d206474": {
          "model_module": "@jupyter-widgets/base",
          "model_name": "LayoutModel",
          "model_module_version": "1.2.0",
          "state": {
            "_model_module": "@jupyter-widgets/base",
            "_model_module_version": "1.2.0",
            "_model_name": "LayoutModel",
            "_view_count": null,
            "_view_module": "@jupyter-widgets/base",
            "_view_module_version": "1.2.0",
            "_view_name": "LayoutView",
            "align_content": null,
            "align_items": null,
            "align_self": null,
            "border": null,
            "bottom": null,
            "display": null,
            "flex": null,
            "flex_flow": null,
            "grid_area": null,
            "grid_auto_columns": null,
            "grid_auto_flow": null,
            "grid_auto_rows": null,
            "grid_column": null,
            "grid_gap": null,
            "grid_row": null,
            "grid_template_areas": null,
            "grid_template_columns": null,
            "grid_template_rows": null,
            "height": null,
            "justify_content": null,
            "justify_items": null,
            "left": null,
            "margin": null,
            "max_height": null,
            "max_width": null,
            "min_height": null,
            "min_width": null,
            "object_fit": null,
            "object_position": null,
            "order": null,
            "overflow": null,
            "overflow_x": null,
            "overflow_y": null,
            "padding": null,
            "right": null,
            "top": null,
            "visibility": null,
            "width": null
          }
        },
        "48dc9607bf68426ebb20f0feaeb42f81": {
          "model_module": "@jupyter-widgets/controls",
          "model_name": "DescriptionStyleModel",
          "model_module_version": "1.5.0",
          "state": {
            "_model_module": "@jupyter-widgets/controls",
            "_model_module_version": "1.5.0",
            "_model_name": "DescriptionStyleModel",
            "_view_count": null,
            "_view_module": "@jupyter-widgets/base",
            "_view_module_version": "1.2.0",
            "_view_name": "StyleView",
            "description_width": ""
          }
        },
        "922d22b29a0f4344b64f1a67449b6208": {
          "model_module": "@jupyter-widgets/base",
          "model_name": "LayoutModel",
          "model_module_version": "1.2.0",
          "state": {
            "_model_module": "@jupyter-widgets/base",
            "_model_module_version": "1.2.0",
            "_model_name": "LayoutModel",
            "_view_count": null,
            "_view_module": "@jupyter-widgets/base",
            "_view_module_version": "1.2.0",
            "_view_name": "LayoutView",
            "align_content": null,
            "align_items": null,
            "align_self": null,
            "border": null,
            "bottom": null,
            "display": null,
            "flex": null,
            "flex_flow": null,
            "grid_area": null,
            "grid_auto_columns": null,
            "grid_auto_flow": null,
            "grid_auto_rows": null,
            "grid_column": null,
            "grid_gap": null,
            "grid_row": null,
            "grid_template_areas": null,
            "grid_template_columns": null,
            "grid_template_rows": null,
            "height": null,
            "justify_content": null,
            "justify_items": null,
            "left": null,
            "margin": null,
            "max_height": null,
            "max_width": null,
            "min_height": null,
            "min_width": null,
            "object_fit": null,
            "object_position": null,
            "order": null,
            "overflow": null,
            "overflow_x": null,
            "overflow_y": null,
            "padding": null,
            "right": null,
            "top": null,
            "visibility": null,
            "width": null
          }
        },
        "8e33040ecdaa4c6289ce5bc2a7aa787e": {
          "model_module": "@jupyter-widgets/controls",
          "model_name": "ProgressStyleModel",
          "model_module_version": "1.5.0",
          "state": {
            "_model_module": "@jupyter-widgets/controls",
            "_model_module_version": "1.5.0",
            "_model_name": "ProgressStyleModel",
            "_view_count": null,
            "_view_module": "@jupyter-widgets/base",
            "_view_module_version": "1.2.0",
            "_view_name": "StyleView",
            "bar_color": null,
            "description_width": ""
          }
        },
        "b7a10dd46cee43aca133ee3d5961613e": {
          "model_module": "@jupyter-widgets/base",
          "model_name": "LayoutModel",
          "model_module_version": "1.2.0",
          "state": {
            "_model_module": "@jupyter-widgets/base",
            "_model_module_version": "1.2.0",
            "_model_name": "LayoutModel",
            "_view_count": null,
            "_view_module": "@jupyter-widgets/base",
            "_view_module_version": "1.2.0",
            "_view_name": "LayoutView",
            "align_content": null,
            "align_items": null,
            "align_self": null,
            "border": null,
            "bottom": null,
            "display": null,
            "flex": null,
            "flex_flow": null,
            "grid_area": null,
            "grid_auto_columns": null,
            "grid_auto_flow": null,
            "grid_auto_rows": null,
            "grid_column": null,
            "grid_gap": null,
            "grid_row": null,
            "grid_template_areas": null,
            "grid_template_columns": null,
            "grid_template_rows": null,
            "height": null,
            "justify_content": null,
            "justify_items": null,
            "left": null,
            "margin": null,
            "max_height": null,
            "max_width": null,
            "min_height": null,
            "min_width": null,
            "object_fit": null,
            "object_position": null,
            "order": null,
            "overflow": null,
            "overflow_x": null,
            "overflow_y": null,
            "padding": null,
            "right": null,
            "top": null,
            "visibility": null,
            "width": null
          }
        },
        "5fec77ea16754061b6475012fb2bee3b": {
          "model_module": "@jupyter-widgets/controls",
          "model_name": "DescriptionStyleModel",
          "model_module_version": "1.5.0",
          "state": {
            "_model_module": "@jupyter-widgets/controls",
            "_model_module_version": "1.5.0",
            "_model_name": "DescriptionStyleModel",
            "_view_count": null,
            "_view_module": "@jupyter-widgets/base",
            "_view_module_version": "1.2.0",
            "_view_name": "StyleView",
            "description_width": ""
          }
        }
      }
    }
  },
  "cells": [
    {
      "cell_type": "code",
      "execution_count": 6,
      "metadata": {
        "id": "ZM0iLP8TlWtI"
      },
      "outputs": [],
      "source": [
        "import tensorflow as tf\n",
        "import tensorflow_datasets as tfds"
      ]
    },
    {
      "cell_type": "markdown",
      "source": [
        "# Custom Model Implementations"
      ],
      "metadata": {
        "id": "191wvXHJV1Zt"
      }
    },
    {
      "cell_type": "markdown",
      "source": [
        "In this notebook, we'll explore implementing custom models using both the functional and subclassing approaches in TensorFlow/Keras."
      ],
      "metadata": {
        "id": "w_C6l1ohV2G_"
      }
    },
    {
      "cell_type": "markdown",
      "source": [
        "## Wide and Deep Model"
      ],
      "metadata": {
        "id": "Yqv5MhpbV2SB"
      }
    },
    {
      "cell_type": "markdown",
      "source": [
        "### Functional Implementation"
      ],
      "metadata": {
        "id": "Xu5Gov2XUd_j"
      }
    },
    {
      "cell_type": "code",
      "source": [
        "# Define inputs\n",
        "input_a = tf.keras.layers.Input(shape=[1], name=\"Wide_Input\")\n",
        "input_b = tf.keras.layers.Input(shape=[1], name=\"Deep_Input\")\n",
        "\n",
        "# Define deep path\n",
        "hidden_1 = tf.keras.layers.Dense(30, activation=\"relu\")(input_b)\n",
        "hidden_2 = tf.keras.layers.Dense(30, activation=\"relu\")(hidden_1)\n",
        "\n",
        "# Define merged path\n",
        "concat = tf.keras.layers.concatenate([input_a, hidden_2])\n",
        "output = tf.keras.layers.Dense(1, name=\"Output\")(concat)\n",
        "\n",
        "# Define another output for the deep path\n",
        "aux_output = tf.keras.layers.Dense(1, name=\"aux_Output\")(hidden_2)\n",
        "\n",
        "# Build the model\n",
        "model_func = tf.keras.models.Model(inputs=[input_a, input_b], outputs=[output, aux_output])\n",
        "\n",
        "model_func.summary()"
      ],
      "metadata": {
        "colab": {
          "base_uri": "https://localhost:8080/"
        },
        "id": "fo6uGYoFVNpW",
        "outputId": "11d5554d-1f8c-49bf-90b3-128247413dd1"
      },
      "execution_count": 10,
      "outputs": [
        {
          "output_type": "stream",
          "name": "stdout",
          "text": [
            "Model: \"model_1\"\n",
            "__________________________________________________________________________________________________\n",
            " Layer (type)                Output Shape                 Param #   Connected to                  \n",
            "==================================================================================================\n",
            " Deep_Input (InputLayer)     [(None, 1)]                  0         []                            \n",
            "                                                                                                  \n",
            " dense_7 (Dense)             (None, 30)                   60        ['Deep_Input[0][0]']          \n",
            "                                                                                                  \n",
            " Wide_Input (InputLayer)     [(None, 1)]                  0         []                            \n",
            "                                                                                                  \n",
            " dense_8 (Dense)             (None, 30)                   930       ['dense_7[0][0]']             \n",
            "                                                                                                  \n",
            " concatenate_1 (Concatenate  (None, 31)                   0         ['Wide_Input[0][0]',          \n",
            " )                                                                   'dense_8[0][0]']             \n",
            "                                                                                                  \n",
            " Output (Dense)              (None, 1)                    32        ['concatenate_1[0][0]']       \n",
            "                                                                                                  \n",
            " aux_Output (Dense)          (None, 1)                    31        ['dense_8[0][0]']             \n",
            "                                                                                                  \n",
            "==================================================================================================\n",
            "Total params: 1053 (4.11 KB)\n",
            "Trainable params: 1053 (4.11 KB)\n",
            "Non-trainable params: 0 (0.00 Byte)\n",
            "__________________________________________________________________________________________________\n"
          ]
        }
      ]
    },
    {
      "cell_type": "markdown",
      "source": [
        "### Subclassing Implementation"
      ],
      "metadata": {
        "id": "jy7T9jiZPf2x"
      }
    },
    {
      "cell_type": "code",
      "source": [
        "\n",
        "# Inherit from the Model base class\n",
        "class WideAndDeepModel(tf.keras.models.Model):\n",
        "    def __init__(self, units=30, activation='relu', **kwargs):\n",
        "        super().__init__(**kwargs)\n",
        "        self.hidden1 = tf.keras.layers.Dense(units, activation=activation)\n",
        "        self.hidden2 = tf.keras.layers.Dense(units, activation=activation)\n",
        "        self.main_output = tf.keras.layers.Dense(1)\n",
        "        self.aux_output = tf.keras.layers.Dense(1)\n",
        "\n",
        "    def call(self, inputs):\n",
        "        input_A, input_B = inputs\n",
        "        hidden1 = self.hidden1(input_B)\n",
        "        hidden2 = self.hidden2(hidden1)\n",
        "        concat = tf.keras.layers.concatenate([input_A, hidden2])\n",
        "        main_output = self.main_output(concat)\n",
        "        aux_output = self.aux_output(hidden2)\n",
        "\n",
        "        return main_output, aux_output\n",
        "\n",
        "# Create an instance of the model\n",
        "model_sub = WideAndDeepModel()\n",
        "\n",
        "# Build the model by passing a sample input\n",
        "sample_input_A = tf.zeros((1, 1))\n",
        "sample_input_B = tf.zeros((1, 1))\n",
        "_ = model_sub([sample_input_A, sample_input_B])\n",
        "\n",
        "# Now, we can call summary()\n",
        "model_sub.summary()"
      ],
      "metadata": {
        "colab": {
          "base_uri": "https://localhost:8080/"
        },
        "id": "ingl6SaMPiaW",
        "outputId": "eff7b6a6-7d97-4df9-9503-50d9c03a8dbd"
      },
      "execution_count": 22,
      "outputs": [
        {
          "output_type": "stream",
          "name": "stdout",
          "text": [
            "Model: \"wide_and_deep_model_6\"\n",
            "_________________________________________________________________\n",
            " Layer (type)                Output Shape              Param #   \n",
            "=================================================================\n",
            " dense_29 (Dense)            multiple                  60        \n",
            "                                                                 \n",
            " dense_30 (Dense)            multiple                  930       \n",
            "                                                                 \n",
            " dense_31 (Dense)            multiple                  32        \n",
            "                                                                 \n",
            " dense_32 (Dense)            multiple                  31        \n",
            "                                                                 \n",
            "=================================================================\n",
            "Total params: 1053 (4.11 KB)\n",
            "Trainable params: 1053 (4.11 KB)\n",
            "Non-trainable params: 0 (0.00 Byte)\n",
            "_________________________________________________________________\n"
          ]
        }
      ]
    },
    {
      "cell_type": "markdown",
      "source": [
        "## ResNet Model"
      ],
      "metadata": {
        "id": "siK6iUn8Rybr"
      }
    },
    {
      "cell_type": "markdown",
      "source": [
        "This model implements a ResNet architecture, a popular deep learning model known for its effectiveness in image classification tasks. It consists of convolutional layers, batch normalization, identity blocks, and global average pooling."
      ],
      "metadata": {
        "id": "Z8FeWKxBT2oj"
      }
    },
    {
      "cell_type": "markdown",
      "source": [
        "### IdentityBlock Class\n",
        "\n",
        "Defines a single identity block within the ResNet architecture. This block contains convolutional layers, batch normalization, and skip connections."
      ],
      "metadata": {
        "id": "U9h-m9gdT8Ad"
      }
    },
    {
      "cell_type": "code",
      "source": [
        "# Define IdentityBlock class\n",
        "class IdentityBlock(tf.keras.Model):\n",
        "    def __init__(self, filters, kernel_size):\n",
        "        super(IdentityBlock, self).__init__(name='')\n",
        "        self.conv1 = tf.keras.layers.Conv2D(filters, kernel_size, padding='same')\n",
        "        self.bn1 = tf.keras.layers.BatchNormalization()\n",
        "        self.conv2 = tf.keras.layers.Conv2D(filters, kernel_size, padding='same')\n",
        "        self.bn2 = tf.keras.layers.BatchNormalization()\n",
        "        self.act = tf.keras.layers.Activation('relu')\n",
        "        self.add = tf.keras.layers.Add()\n",
        "\n",
        "    def call(self, input_tensor):\n",
        "        x = self.conv1(input_tensor)\n",
        "        x = self.bn1(x)\n",
        "        x = self.act(x)\n",
        "        x = self.conv2(x)\n",
        "        x = self.bn2(x)\n",
        "        x = self.add([x, input_tensor])\n",
        "        x = self.act(x)\n",
        "        return x\n"
      ],
      "metadata": {
        "id": "AC-bBe-hSo5h"
      },
      "execution_count": 7,
      "outputs": []
    },
    {
      "cell_type": "markdown",
      "source": [
        "### ResNet Class\n",
        "\n",
        "The main ResNet model, which incorporates multiple identity blocks. It follows a similar structure to the IdentityBlock class, with additional layers for global average pooling and classification."
      ],
      "metadata": {
        "id": "al0_vW_NUFDO"
      }
    },
    {
      "cell_type": "code",
      "source": [
        "# Define ResNet class\n",
        "class ResNet(tf.keras.Model):\n",
        "    def __init__(self, num_classes):\n",
        "        super(ResNet, self).__init__()\n",
        "        self.conv = tf.keras.layers.Conv2D(64, 7, padding='same')\n",
        "        self.bn = tf.keras.layers.BatchNormalization()\n",
        "        self.act = tf.keras.layers.Activation('relu')\n",
        "        self.max_pool = tf.keras.layers.MaxPool2D((3, 3))\n",
        "        self.id1a = IdentityBlock(64, 3)\n",
        "        self.id1b = IdentityBlock(64, 3)\n",
        "        self.global_pool = tf.keras.layers.GlobalAveragePooling2D()\n",
        "        self.classifier = tf.keras.layers.Dense(num_classes, activation='softmax')\n",
        "\n",
        "    def call(self, inputs):\n",
        "        x = self.conv(inputs)\n",
        "        x = self.bn(x)\n",
        "        x = self.act(x)\n",
        "        x = self.max_pool(x)\n",
        "        x = self.id1a(x)\n",
        "        x = self.id1b(x)\n",
        "        x = self.global_pool(x)\n",
        "        return self.classifier(x)\n"
      ],
      "metadata": {
        "id": "70atPGJsSqDI"
      },
      "execution_count": 8,
      "outputs": []
    },
    {
      "cell_type": "markdown",
      "source": [
        "### Training"
      ],
      "metadata": {
        "id": "zir5PmddWXxV"
      }
    },
    {
      "cell_type": "code",
      "source": [
        "# Utility function to preprocess the dataset\n",
        "def preprocess(features):\n",
        "    return tf.cast(features['image'], tf.float32) / 255., features['label']\n",
        "\n",
        "# Create a ResNet instance with 10 output units for MNIST\n",
        "resnet = ResNet(10)\n",
        "resnet.compile(optimizer='adam', loss='sparse_categorical_crossentropy', metrics=['accuracy'])\n",
        "\n",
        "# Load and preprocess the dataset\n",
        "dataset = tfds.load('mnist', split=tfds.Split.TRAIN, data_dir='./data')\n",
        "dataset = dataset.map(preprocess).batch(32)\n",
        "\n",
        "# Train the model\n",
        "resnet.fit(dataset, epochs=1)\n"
      ],
      "metadata": {
        "colab": {
          "base_uri": "https://localhost:8080/",
          "height": 117,
          "referenced_widgets": [
            "da09dda4a80740f3bf073bfd27dc82e8",
            "354d625fb2f2443e9001421716e86f56",
            "f598ea3c861e4fcf81acd2561c0ca8b7",
            "95cf5205f9ff4af3a5c8afc6369843ad",
            "b253529c2a234b7bba2a259dd151c4d5",
            "af923b4b394a4a17bd54f0e20d206474",
            "48dc9607bf68426ebb20f0feaeb42f81",
            "922d22b29a0f4344b64f1a67449b6208",
            "8e33040ecdaa4c6289ce5bc2a7aa787e",
            "b7a10dd46cee43aca133ee3d5961613e",
            "5fec77ea16754061b6475012fb2bee3b"
          ]
        },
        "id": "YjbG24vBSsSJ",
        "outputId": "aebfd7bc-a041-4fc1-e508-fcf3cc65870c"
      },
      "execution_count": 9,
      "outputs": [
        {
          "output_type": "stream",
          "name": "stdout",
          "text": [
            "Downloading and preparing dataset 11.06 MiB (download: 11.06 MiB, generated: 21.00 MiB, total: 32.06 MiB) to ./data/mnist/3.0.1...\n"
          ]
        },
        {
          "output_type": "display_data",
          "data": {
            "text/plain": [
              "Dl Completed...:   0%|          | 0/5 [00:00<?, ? file/s]"
            ],
            "application/vnd.jupyter.widget-view+json": {
              "version_major": 2,
              "version_minor": 0,
              "model_id": "da09dda4a80740f3bf073bfd27dc82e8"
            }
          },
          "metadata": {}
        },
        {
          "output_type": "stream",
          "name": "stdout",
          "text": [
            "Dataset mnist downloaded and prepared to ./data/mnist/3.0.1. Subsequent calls will reuse this data.\n",
            "1875/1875 [==============================] - 256s 135ms/step - loss: 0.1317 - accuracy: 0.9638\n"
          ]
        },
        {
          "output_type": "execute_result",
          "data": {
            "text/plain": [
              "<keras.src.callbacks.History at 0x7c42b55e0520>"
            ]
          },
          "metadata": {},
          "execution_count": 9
        }
      ]
    },
    {
      "cell_type": "markdown",
      "source": [
        "## VGG Model"
      ],
      "metadata": {
        "id": "rwLbMyoEYhrV"
      }
    },
    {
      "cell_type": "markdown",
      "source": [
        "### VGG block"
      ],
      "metadata": {
        "id": "A7x8ZitcYjah"
      }
    },
    {
      "cell_type": "code",
      "source": [
        "class Block(tf.keras.Model):\n",
        "    def __init__(self, filters, kernel_size, repetitions, pool_size=2, strides=2):\n",
        "        super(Block, self).__init__()\n",
        "        self.filters = filters\n",
        "        self.kernel_size = kernel_size\n",
        "        self.repetitions = repetitions\n",
        "\n",
        "        # Define convolutional layers based on the number of repetitions\n",
        "        for i in range(repetitions):\n",
        "            # Define a Conv2D layer with specified filters, kernel_size, activation, and padding.\n",
        "            vars(self)[f'conv2D_{i}'] = tf.keras.layers.Conv2D(filters=filters, kernel_size=kernel_size, padding='same', activation='relu')\n",
        "\n",
        "        # Define the max pooling layer that will be added after the Conv2D blocks\n",
        "        self.max_pool = tf.keras.layers.MaxPooling2D(pool_size=pool_size, strides=strides)\n",
        "\n",
        "    def call(self, inputs):\n",
        "        # Access the first convolutional layer (conv2D_0)\n",
        "        conv2D_0 = self.conv2D_0\n",
        "\n",
        "        # Connect the conv2D_0 layer to the input\n",
        "        x = conv2D_0(inputs)\n",
        "\n",
        "        # Iterate through the remaining convolutional layers (conv2D_i) from 1 to `repetitions`\n",
        "        for i in range(1, self.repetitions):\n",
        "            # Access the current convolutional layer (conv2D_i)\n",
        "            conv2D_i = vars(self)[f'conv2D_{i}']\n",
        "\n",
        "            # Connect the current convolutional layer to the previous layer (x)\n",
        "            x = conv2D_i(x)\n",
        "\n",
        "        # Apply max pooling after all convolutional layers\n",
        "        max_pool = self.max_pool(x)\n",
        "\n",
        "        return max_pool\n"
      ],
      "metadata": {
        "id": "pMVsUSZYXoTT"
      },
      "execution_count": 26,
      "outputs": []
    },
    {
      "cell_type": "markdown",
      "source": [
        "### VGG Class"
      ],
      "metadata": {
        "id": "wcvGpA1FZmEm"
      }
    },
    {
      "cell_type": "code",
      "source": [
        "class MyVGG(tf.keras.Model):\n",
        "\n",
        "    def __init__(self, num_classes):\n",
        "        super(MyVGG, self).__init__()\n",
        "\n",
        "        # Define blocks of VGG with specific configurations\n",
        "        self.block_a = Block(filters=64, kernel_size=3, repetitions=2)\n",
        "        self.block_b = Block(filters=128, kernel_size=3, repetitions=2)\n",
        "        self.block_c = Block(filters=256, kernel_size=3, repetitions=3)\n",
        "        self.block_d = Block(filters=512, kernel_size=3, repetitions=3)\n",
        "        self.block_e = Block(filters=512, kernel_size=3, repetitions=3)\n",
        "\n",
        "        # Classification head\n",
        "        # Flatten layer to transform 3D tensor into 1D tensor for classification\n",
        "        self.flatten = tf.keras.layers.Flatten()\n",
        "        # Fully connected layer with 256 units and ReLU activation\n",
        "        self.fc = tf.keras.layers.Dense(256, activation='relu')\n",
        "        # Softmax classifier for the output layer\n",
        "        self.classifier = tf.keras.layers.Dense(num_classes, activation='softmax')\n",
        "\n",
        "    def call(self, inputs):\n",
        "        # Connect layers sequentially\n",
        "        x = self.block_a(inputs)\n",
        "        x = self.block_b(x)\n",
        "        x = self.block_c(x)\n",
        "        x = self.block_d(x)\n",
        "        x = self.block_e(x)\n",
        "        x = self.flatten(x)\n",
        "        x = self.fc(x)\n",
        "        x = self.classifier(x)\n",
        "        return x\n"
      ],
      "metadata": {
        "id": "2YNDVFEEZmNd"
      },
      "execution_count": 24,
      "outputs": []
    },
    {
      "cell_type": "markdown",
      "source": [
        "### Training"
      ],
      "metadata": {
        "id": "UkQrehzLZrzC"
      }
    },
    {
      "cell_type": "code",
      "source": [
        "# Download the dataset\n",
        "dataset = tfds.load('cats_vs_dogs', split=tfds.Split.TRAIN, data_dir='data/')\n",
        "\n",
        "# Initialize VGG with the number of classes\n",
        "vgg = MyVGG(num_classes=2)\n",
        "\n",
        "# Compile with losses and metrics\n",
        "vgg.compile(optimizer='adam', loss='sparse_categorical_crossentropy', metrics=['accuracy'])\n",
        "\n",
        "# Define preprocessing function\n",
        "def preprocess(features):\n",
        "    # Resize and normalize\n",
        "    image = tf.image.resize(features['image'], (224, 224))\n",
        "    return tf.cast(image, tf.float32) / 255., features['label']\n",
        "\n",
        "# Apply transformations to dataset\n",
        "dataset = dataset.map(preprocess).batch(32)\n",
        "\n",
        "# Train the custom VGG model\n",
        "vgg.fit(dataset, epochs=10)"
      ],
      "metadata": {
        "colab": {
          "base_uri": "https://localhost:8080/"
        },
        "id": "otAi_5UaZuDp",
        "outputId": "de53f9dd-d372-4c24-9516-9e07252eed21"
      },
      "execution_count": null,
      "outputs": [
        {
          "output_type": "stream",
          "name": "stdout",
          "text": [
            "\b\b\b\b\b\b\b\b\b\b\b\b\b\b\b\b\b\b\b\b\b\b\b\b\b\b\b\b\b\b\b\b\b\b\b\b\b\b\b\b\b\b\b\b\b\b\b\b\b\b\b\b\b\b\b\b\b\b\b\b\b\b\b\b\b\b\b\b\b\b\b\b\b\b\b\b\b\b\b\b\b\b\b\b\b\b\b\b\b\r  7/727 [..............................] - ETA: 3:19:22 - loss: 0.6852 - accuracy: 0.5536"
          ]
        }
      ]
    }
  ]
}