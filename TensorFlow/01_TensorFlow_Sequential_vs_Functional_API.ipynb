{
  "nbformat": 4,
  "nbformat_minor": 0,
  "metadata": {
    "colab": {
      "provenance": []
    },
    "kernelspec": {
      "name": "python3",
      "display_name": "Python 3"
    },
    "language_info": {
      "name": "python"
    }
  },
  "cells": [
    {
      "cell_type": "markdown",
      "source": [
        "# Sequential API vs Functional API"
      ],
      "metadata": {
        "id": "PIaQ0G9MLRsn"
      }
    },
    {
      "cell_type": "code",
      "execution_count": 7,
      "metadata": {
        "id": "hVem8HhXKV-v"
      },
      "outputs": [],
      "source": [
        "# Importing necessary libraries\n",
        "import tensorflow as tf"
      ]
    },
    {
      "cell_type": "code",
      "source": [
        "# Prepare fashion mnist dataset\n",
        "mnist = tf.keras.datasets.fashion_mnist\n",
        "(train_data, train_labels), (test_data, test_labels) = mnist.load_data()\n",
        "train_data = train_data / 255.0\n",
        "test_data = test_data / 255.0"
      ],
      "metadata": {
        "id": "aPT9-eJ1MCfw"
      },
      "execution_count": 8,
      "outputs": []
    },
    {
      "cell_type": "markdown",
      "source": [
        "## Sequential API"
      ],
      "metadata": {
        "id": "CbMty3ZyL09P"
      }
    },
    {
      "cell_type": "markdown",
      "source": [
        "The Sequential API is a simple and intuitive way to build neural networks in TensorFlow. It allows you to create models layer by layer in a linear fashion, where each layer has exactly one input tensor and one output tensor.\n",
        "\n"
      ],
      "metadata": {
        "id": "sEA6EzigPLuc"
      }
    },
    {
      "cell_type": "code",
      "source": [
        "# Creating a Sequential model\n",
        "seq_model = tf.keras.Sequential([\n",
        "    tf.keras.layers.Flatten(input_shape=(28, 28)),\n",
        "    tf.keras.layers.Dense(128, activation=\"relu\"),\n",
        "    tf.keras.layers.Dense(10, activation=\"softmax\")\n",
        "])\n",
        "\n",
        "seq_model.summary()"
      ],
      "metadata": {
        "colab": {
          "base_uri": "https://localhost:8080/"
        },
        "id": "fnEFbND_L5to",
        "outputId": "3a7bc5c7-97d5-4901-ec6b-55892ffae166"
      },
      "execution_count": 9,
      "outputs": [
        {
          "output_type": "stream",
          "name": "stdout",
          "text": [
            "Model: \"sequential_1\"\n",
            "_________________________________________________________________\n",
            " Layer (type)                Output Shape              Param #   \n",
            "=================================================================\n",
            " flatten_2 (Flatten)         (None, 784)               0         \n",
            "                                                                 \n",
            " dense_4 (Dense)             (None, 128)               100480    \n",
            "                                                                 \n",
            " dense_5 (Dense)             (None, 10)                1290      \n",
            "                                                                 \n",
            "=================================================================\n",
            "Total params: 101770 (397.54 KB)\n",
            "Trainable params: 101770 (397.54 KB)\n",
            "Non-trainable params: 0 (0.00 Byte)\n",
            "_________________________________________________________________\n"
          ]
        }
      ]
    },
    {
      "cell_type": "code",
      "source": [
        "# Compile the Sequential model\n",
        "seq_model.compile(optimizer=tf.optimizers.Adam(),\n",
        "              loss='sparse_categorical_crossentropy',\n",
        "              metrics=['accuracy'])"
      ],
      "metadata": {
        "id": "t0fN_JZXPlWR"
      },
      "execution_count": 10,
      "outputs": []
    },
    {
      "cell_type": "code",
      "source": [
        "# Train the Sequential model\n",
        "seq_model.fit(train_data, train_labels, epochs=5)"
      ],
      "metadata": {
        "colab": {
          "base_uri": "https://localhost:8080/"
        },
        "id": "N2AejjLoPohb",
        "outputId": "37a42235-542b-426f-ed4f-2a5dbfca9897"
      },
      "execution_count": 11,
      "outputs": [
        {
          "output_type": "stream",
          "name": "stdout",
          "text": [
            "Epoch 1/5\n",
            "1875/1875 [==============================] - 7s 3ms/step - loss: 0.4963 - accuracy: 0.8257\n",
            "Epoch 2/5\n",
            "1875/1875 [==============================] - 7s 4ms/step - loss: 0.3737 - accuracy: 0.8656\n",
            "Epoch 3/5\n",
            "1875/1875 [==============================] - 6s 3ms/step - loss: 0.3365 - accuracy: 0.8769\n",
            "Epoch 4/5\n",
            "1875/1875 [==============================] - 7s 4ms/step - loss: 0.3134 - accuracy: 0.8856\n",
            "Epoch 5/5\n",
            "1875/1875 [==============================] - 6s 3ms/step - loss: 0.2963 - accuracy: 0.8913\n"
          ]
        },
        {
          "output_type": "execute_result",
          "data": {
            "text/plain": [
              "<keras.src.callbacks.History at 0x7e15de6ecc10>"
            ]
          },
          "metadata": {},
          "execution_count": 11
        }
      ]
    },
    {
      "cell_type": "code",
      "source": [
        "# Evaluate the Sequential model\n",
        "seq_model.evaluate(test_data, test_labels)"
      ],
      "metadata": {
        "colab": {
          "base_uri": "https://localhost:8080/"
        },
        "id": "E1lrzWrhPpwS",
        "outputId": "eb07211c-0485-4ad6-f7d0-0644af250578"
      },
      "execution_count": 12,
      "outputs": [
        {
          "output_type": "stream",
          "name": "stdout",
          "text": [
            "313/313 [==============================] - 1s 2ms/step - loss: 0.3449 - accuracy: 0.8765\n"
          ]
        },
        {
          "output_type": "execute_result",
          "data": {
            "text/plain": [
              "[0.34493422508239746, 0.8765000104904175]"
            ]
          },
          "metadata": {},
          "execution_count": 12
        }
      ]
    },
    {
      "cell_type": "markdown",
      "source": [
        "The Sequential API is ideal for building simple feedforward neural networks where the data flows sequentially through the layers. It's easy to understand, especially for beginners, and useful for rapid prototyping and experimentation.\n",
        "\n",
        "However, it has limitations when building models with more complex architectures, such as models with multiple inputs or outputs or models with skip connections. In such cases, the Functional API provides more flexibility and control."
      ],
      "metadata": {
        "id": "sQKrM97DPbzX"
      }
    },
    {
      "cell_type": "markdown",
      "source": [
        "## Functional API"
      ],
      "metadata": {
        "id": "Dd9MgiMvL3pn"
      }
    },
    {
      "cell_type": "markdown",
      "source": [
        "The Functional API in TensorFlow provides a more flexible and advanced way to create neural network models compared to the Sequential API. It allows you to define models with complex architectures, including models with multiple inputs and outputs, shared layers, and branching networks."
      ],
      "metadata": {
        "id": "2md9UDi7P9yu"
      }
    },
    {
      "cell_type": "code",
      "source": [
        "# Creating a Functional model\n",
        "\n",
        "# 1. Define input layer\n",
        "# Instantiate the input Tensor with the specified shape\n",
        "input_layer = tf.keras.layers.Input(shape=(28, 28))\n",
        "\n",
        "# 2. Define layers of the model\n",
        "# Stack the layers using the syntax: new_layer()(previous_layer)\n",
        "x = tf.keras.layers.Flatten()(input_layer)\n",
        "x = tf.keras.layers.Dense(128, activation=\"relu\")(x)\n",
        "output = tf.keras.layers.Dense(10, activation=\"softmax\")(x)\n",
        "\n",
        "# 3. Define the model\n",
        "# Declare inputs and outputs and create the Functional model\n",
        "func_model = tf.keras.models.Model(inputs=input_layer, outputs=output)\n",
        "\n",
        "func_model.summary()"
      ],
      "metadata": {
        "colab": {
          "base_uri": "https://localhost:8080/"
        },
        "id": "1urnHfxIMj08",
        "outputId": "4e2acab0-c1dc-4e11-9049-f349b77f5730"
      },
      "execution_count": 13,
      "outputs": [
        {
          "output_type": "stream",
          "name": "stdout",
          "text": [
            "Model: \"model_1\"\n",
            "_________________________________________________________________\n",
            " Layer (type)                Output Shape              Param #   \n",
            "=================================================================\n",
            " input_2 (InputLayer)        [(None, 28, 28)]          0         \n",
            "                                                                 \n",
            " flatten_3 (Flatten)         (None, 784)               0         \n",
            "                                                                 \n",
            " dense_6 (Dense)             (None, 128)               100480    \n",
            "                                                                 \n",
            " dense_7 (Dense)             (None, 10)                1290      \n",
            "                                                                 \n",
            "=================================================================\n",
            "Total params: 101770 (397.54 KB)\n",
            "Trainable params: 101770 (397.54 KB)\n",
            "Non-trainable params: 0 (0.00 Byte)\n",
            "_________________________________________________________________\n"
          ]
        }
      ]
    },
    {
      "cell_type": "code",
      "source": [
        "# configure, train, and evaluate the model\n",
        "func_model.compile(optimizer=tf.optimizers.Adam(),\n",
        "              loss='sparse_categorical_crossentropy',\n",
        "              metrics=['accuracy'])\n",
        "func_model.fit(train_data, train_labels, epochs=5)\n",
        "func_model.evaluate(test_data, test_labels)"
      ],
      "metadata": {
        "colab": {
          "base_uri": "https://localhost:8080/"
        },
        "id": "a5hhljS9M8Ph",
        "outputId": "3ae70bd0-ca9a-456c-83d0-c36892e0b68b"
      },
      "execution_count": 14,
      "outputs": [
        {
          "output_type": "stream",
          "name": "stdout",
          "text": [
            "Epoch 1/5\n",
            "1875/1875 [==============================] - 8s 4ms/step - loss: 0.5027 - accuracy: 0.8240\n",
            "Epoch 2/5\n",
            "1875/1875 [==============================] - 7s 4ms/step - loss: 0.3783 - accuracy: 0.8628\n",
            "Epoch 3/5\n",
            "1875/1875 [==============================] - 8s 4ms/step - loss: 0.3428 - accuracy: 0.8742\n",
            "Epoch 4/5\n",
            "1875/1875 [==============================] - 7s 4ms/step - loss: 0.3174 - accuracy: 0.8827\n",
            "Epoch 5/5\n",
            "1875/1875 [==============================] - 7s 4ms/step - loss: 0.2964 - accuracy: 0.8897\n",
            "313/313 [==============================] - 1s 3ms/step - loss: 0.3710 - accuracy: 0.8659\n"
          ]
        },
        {
          "output_type": "execute_result",
          "data": {
            "text/plain": [
              "[0.3709961473941803, 0.8658999800682068]"
            ]
          },
          "metadata": {},
          "execution_count": 14
        }
      ]
    },
    {
      "cell_type": "markdown",
      "source": [
        "The Functional API is beneficial for building complex models with intricate architectures, including models with multiple inputs or outputs, skip connections, and parallel branches. It provides more flexibility and control compared to the Sequential API, making it suitable for a wide range of tasks, including computer vision, natural language processing, and reinforcement learning."
      ],
      "metadata": {
        "id": "LopcS3DmQMJP"
      }
    }
  ]
}